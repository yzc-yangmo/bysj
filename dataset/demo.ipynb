{
 "cells": [
  {
   "cell_type": "code",
   "execution_count": 7,
   "metadata": {},
   "outputs": [],
   "source": [
    "import os\n",
    "import shutil\n",
    "\n",
    "val_dir = \"./val-256\"\n",
    "target_dir = \"./val-256-2\"\n",
    "\n",
    "class_count = 5\n",
    "\n",
    "count = {str(i): 0 for i in range(256)}\n",
    "\n",
    "for i in os.listdir(val_dir):\n",
    "    class_idx = i.split(\"-\")[1]\n",
    "    if count[class_idx] < class_count:\n",
    "        shutil.copy(os.path.join(val_dir, i), os.path.join(target_dir, i))\n",
    "        count[class_idx] += 1\n"
   ]
  }
 ],
 "metadata": {
  "kernelspec": {
   "display_name": "bysj",
   "language": "python",
   "name": "python3"
  },
  "language_info": {
   "codemirror_mode": {
    "name": "ipython",
    "version": 3
   },
   "file_extension": ".py",
   "mimetype": "text/x-python",
   "name": "python",
   "nbconvert_exporter": "python",
   "pygments_lexer": "ipython3",
   "version": "3.12.9"
  }
 },
 "nbformat": 4,
 "nbformat_minor": 2
}
