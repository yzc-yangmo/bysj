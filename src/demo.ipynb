{
 "cells": [
  {
   "cell_type": "code",
   "execution_count": null,
   "metadata": {},
   "outputs": [],
   "source": [
    "import os, json\n",
    "from PIL import Image\n",
    "import numpy as np\n",
    "import pandas as pd\n",
    "import torch\n",
    "from torch.utils.data import Dataset, DataLoader\n",
    "from torchvision import models \n",
    "\n",
    "\n"
   ]
  },
  {
   "cell_type": "code",
   "execution_count": 2,
   "metadata": {},
   "outputs": [],
   "source": [
    "config = json.load(open('../config/config.json'))\n",
    "mapping = json.load(open('../config/mapping.json'))"
   ]
  },
  {
   "cell_type": "code",
   "execution_count": null,
   "metadata": {},
   "outputs": [
    {
     "name": "stdout",
     "output_type": "stream",
     "text": [
      "Help on function resnet50 in module torchvision.models.resnet:\n",
      "\n",
      "resnet50(*, weights: Optional[torchvision.models.resnet.ResNet50_Weights] = None, progress: bool = True, **kwargs: Any) -> torchvision.models.resnet.ResNet\n",
      "    ResNet-50 from `Deep Residual Learning for Image Recognition <https://arxiv.org/abs/1512.03385>`__.\n",
      "\n",
      "    .. note::\n",
      "       The bottleneck of TorchVision places the stride for downsampling to the second 3x3\n",
      "       convolution while the original paper places it to the first 1x1 convolution.\n",
      "       This variant improves the accuracy and is known as `ResNet V1.5\n",
      "       <https://ngc.nvidia.com/catalog/model-scripts/nvidia:resnet_50_v1_5_for_pytorch>`_.\n",
      "\n",
      "    Args:\n",
      "        weights (:class:`~torchvision.models.ResNet50_Weights`, optional): The\n",
      "            pretrained weights to use. See\n",
      "            :class:`~torchvision.models.ResNet50_Weights` below for\n",
      "            more details, and possible values. By default, no pre-trained\n",
      "            weights are used.\n",
      "        progress (bool, optional): If True, displays a progress bar of the\n",
      "            download to stderr. Default is True.\n",
      "        **kwargs: parameters passed to the ``torchvision.models.resnet.ResNet``\n",
      "            base class. Please refer to the `source code\n",
      "            <https://github.com/pytorch/vision/blob/main/torchvision/models/resnet.py>`_\n",
      "            for more details about this class.\n",
      "\n",
      "    .. autoclass:: torchvision.models.ResNet50_Weights\n",
      "        :members:\n",
      "\n"
     ]
    }
   ],
   "source": [
    "model = models.resnet50()"
   ]
  }
 ],
 "metadata": {
  "kernelspec": {
   "display_name": "base",
   "language": "python",
   "name": "python3"
  },
  "language_info": {
   "codemirror_mode": {
    "name": "ipython",
    "version": 3
   },
   "file_extension": ".py",
   "mimetype": "text/x-python",
   "name": "python",
   "nbconvert_exporter": "python",
   "pygments_lexer": "ipython3",
   "version": "3.12.3"
  }
 },
 "nbformat": 4,
 "nbformat_minor": 2
}
